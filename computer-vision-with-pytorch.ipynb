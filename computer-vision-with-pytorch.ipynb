{
 "cells": [
  {
   "cell_type": "raw",
   "id": "7b1b6f18",
   "metadata": {
    "_cell_guid": "b1076dfc-b9ad-4769-8c92-a6c4dae69d19",
    "_uuid": "8f2839f25d086af736a60e9eeb907d3b93b6e0e5",
    "papermill": {
     "duration": 0.003631,
     "end_time": "2024-03-29T19:34:05.552150",
     "exception": false,
     "start_time": "2024-03-29T19:34:05.548519",
     "status": "completed"
    },
    "tags": []
   },
   "source": [
    "# This Python 3 environment comes with many helpful analytics libraries installed\n",
    "# It is defined by the kaggle/python Docker image: https://github.com/kaggle/docker-python\n",
    "# For example, here's several helpful packages to load\n",
    "\n",
    "import numpy as np # linear algebra\n",
    "import pandas as pd # data processing, CSV file I/O (e.g. pd.read_csv)\n",
    "\n",
    "# Input data files are available in the read-only \"../input/\" directory\n",
    "# For example, running this (by clicking run or pressing Shift+Enter) will list all files under the input directory\n",
    "\n",
    "import os\n",
    "for dirname, _, filenames in os.walk('/kaggle/input'):\n",
    "    for filename in filenames:\n",
    "        print(os.path.join(dirname, filename))\n",
    "\n",
    "# You can write up to 20GB to the current directory (/kaggle/working/) that gets preserved as output when you create a version using \"Save & Run All\" \n",
    "# You can also write temporary files to /kaggle/temp/, but they won't be saved outside of the current session"
   ]
  },
  {
   "cell_type": "markdown",
   "id": "fa061d1b",
   "metadata": {
    "papermill": {
     "duration": 0.002959,
     "end_time": "2024-03-29T19:34:05.558596",
     "exception": false,
     "start_time": "2024-03-29T19:34:05.555637",
     "status": "completed"
    },
    "tags": []
   },
   "source": [
    "**This notebook about computer vision models with PyTorch**"
   ]
  },
  {
   "cell_type": "code",
   "execution_count": 1,
   "id": "6404f9fb",
   "metadata": {
    "execution": {
     "iopub.execute_input": "2024-03-29T19:34:05.566347Z",
     "iopub.status.busy": "2024-03-29T19:34:05.565984Z",
     "iopub.status.idle": "2024-03-29T19:34:13.198857Z",
     "shell.execute_reply": "2024-03-29T19:34:13.197872Z"
    },
    "papermill": {
     "duration": 7.639336,
     "end_time": "2024-03-29T19:34:13.201011",
     "exception": false,
     "start_time": "2024-03-29T19:34:05.561675",
     "status": "completed"
    },
    "tags": []
   },
   "outputs": [
    {
     "data": {
      "text/plain": [
       "True"
      ]
     },
     "execution_count": 1,
     "metadata": {},
     "output_type": "execute_result"
    }
   ],
   "source": [
    "import torch\n",
    "import torchvision\n",
    "torch.cuda.is_available()"
   ]
  },
  {
   "cell_type": "markdown",
   "id": "e7c2bff4",
   "metadata": {
    "papermill": {
     "duration": 0.003023,
     "end_time": "2024-03-29T19:34:13.207512",
     "exception": false,
     "start_time": "2024-03-29T19:34:13.204489",
     "status": "completed"
    },
    "tags": []
   },
   "source": [
    "**Working with tensors**"
   ]
  },
  {
   "cell_type": "code",
   "execution_count": 2,
   "id": "ff652c47",
   "metadata": {
    "execution": {
     "iopub.execute_input": "2024-03-29T19:34:13.215374Z",
     "iopub.status.busy": "2024-03-29T19:34:13.214937Z",
     "iopub.status.idle": "2024-03-29T19:34:13.320552Z",
     "shell.execute_reply": "2024-03-29T19:34:13.319356Z"
    },
    "papermill": {
     "duration": 0.112084,
     "end_time": "2024-03-29T19:34:13.322914",
     "exception": false,
     "start_time": "2024-03-29T19:34:13.210830",
     "status": "completed"
    },
    "tags": []
   },
   "outputs": [
    {
     "name": "stdout",
     "output_type": "stream",
     "text": [
      "tensor([[1., 1.],\n",
      "        [1., 1.]])\n",
      "torch.float32\n"
     ]
    }
   ],
   "source": [
    "# define tensor wit default data type\n",
    "x = torch.ones (2, 2)\n",
    "print (x)\n",
    "print (x.dtype)"
   ]
  },
  {
   "cell_type": "code",
   "execution_count": 3,
   "id": "49561588",
   "metadata": {
    "execution": {
     "iopub.execute_input": "2024-03-29T19:34:13.331847Z",
     "iopub.status.busy": "2024-03-29T19:34:13.331507Z",
     "iopub.status.idle": "2024-03-29T19:34:13.337738Z",
     "shell.execute_reply": "2024-03-29T19:34:13.336673Z"
    },
    "papermill": {
     "duration": 0.013227,
     "end_time": "2024-03-29T19:34:13.340035",
     "exception": false,
     "start_time": "2024-03-29T19:34:13.326808",
     "status": "completed"
    },
    "tags": []
   },
   "outputs": [
    {
     "name": "stdout",
     "output_type": "stream",
     "text": [
      "tensor([[1, 1],\n",
      "        [1, 1]], dtype=torch.int8)\n",
      "torch.int8\n"
     ]
    }
   ],
   "source": [
    "# specify data type\n",
    "x = torch.ones (2, 2, dtype = torch.int8)\n",
    "print (x)\n",
    "print (x.dtype)"
   ]
  },
  {
   "cell_type": "code",
   "execution_count": 4,
   "id": "dadaa1a2",
   "metadata": {
    "execution": {
     "iopub.execute_input": "2024-03-29T19:34:13.348266Z",
     "iopub.status.busy": "2024-03-29T19:34:13.347984Z",
     "iopub.status.idle": "2024-03-29T19:34:13.353902Z",
     "shell.execute_reply": "2024-03-29T19:34:13.352853Z"
    },
    "papermill": {
     "duration": 0.012008,
     "end_time": "2024-03-29T19:34:13.355818",
     "exception": false,
     "start_time": "2024-03-29T19:34:13.343810",
     "status": "completed"
    },
    "tags": []
   },
   "outputs": [
    {
     "name": "stdout",
     "output_type": "stream",
     "text": [
      "torch.uint8\n",
      "torch.float32\n"
     ]
    }
   ],
   "source": [
    "# change tensor data type\n",
    "x = torch.ones (1, dtype = torch.uint8)\n",
    "\n",
    "print (x.dtype)\n",
    "\n",
    "x = x.type (torch.float)\n",
    "print (x.dtype)"
   ]
  },
  {
   "cell_type": "code",
   "execution_count": 5,
   "id": "5552654b",
   "metadata": {
    "execution": {
     "iopub.execute_input": "2024-03-29T19:34:13.363981Z",
     "iopub.status.busy": "2024-03-29T19:34:13.363701Z",
     "iopub.status.idle": "2024-03-29T19:34:13.372300Z",
     "shell.execute_reply": "2024-03-29T19:34:13.371149Z"
    },
    "papermill": {
     "duration": 0.015066,
     "end_time": "2024-03-29T19:34:13.374462",
     "exception": false,
     "start_time": "2024-03-29T19:34:13.359396",
     "status": "completed"
    },
    "tags": []
   },
   "outputs": [
    {
     "name": "stdout",
     "output_type": "stream",
     "text": [
      "tensor([[0.1420, 0.0595],\n",
      "        [0.7709, 0.4668]])\n",
      "torch.float32\n",
      "[[0.14203298 0.05945039]\n",
      " [0.7709309  0.46678817]]\n",
      "float32\n"
     ]
    }
   ],
   "source": [
    "# converting tensors to NumPy arrays\n",
    "x = torch.rand (2, 2)\n",
    "print (x)\n",
    "print (x.dtype)\n",
    "\n",
    "y = x.numpy ()\n",
    "print (y)\n",
    "print (y.dtype)"
   ]
  },
  {
   "cell_type": "code",
   "execution_count": 6,
   "id": "ec621c53",
   "metadata": {
    "execution": {
     "iopub.execute_input": "2024-03-29T19:34:13.382943Z",
     "iopub.status.busy": "2024-03-29T19:34:13.382664Z",
     "iopub.status.idle": "2024-03-29T19:34:13.390488Z",
     "shell.execute_reply": "2024-03-29T19:34:13.389480Z"
    },
    "papermill": {
     "duration": 0.0144,
     "end_time": "2024-03-29T19:34:13.392445",
     "exception": false,
     "start_time": "2024-03-29T19:34:13.378045",
     "status": "completed"
    },
    "tags": []
   },
   "outputs": [
    {
     "name": "stdout",
     "output_type": "stream",
     "text": [
      "[[0. 0.]\n",
      " [0. 0.]]\n",
      "float32\n",
      "[[0. 0.]\n",
      " [0. 0.]]\n",
      "torch.float32\n"
     ]
    }
   ],
   "source": [
    "# converting NumPy arrays to tensors\n",
    "import numpy as np\n",
    "\n",
    "x = np.zeros ((2, 2), dtype = np.float32)\n",
    "print (x)\n",
    "print (x.dtype)\n",
    "\n",
    "y = torch.from_numpy (x)\n",
    "print (x)\n",
    "print (y.dtype)"
   ]
  }
 ],
 "metadata": {
  "kaggle": {
   "accelerator": "nvidiaTeslaT4",
   "dataSources": [],
   "dockerImageVersionId": 30674,
   "isGpuEnabled": true,
   "isInternetEnabled": true,
   "language": "python",
   "sourceType": "notebook"
  },
  "kernelspec": {
   "display_name": "Python 3",
   "language": "python",
   "name": "python3"
  },
  "language_info": {
   "codemirror_mode": {
    "name": "ipython",
    "version": 3
   },
   "file_extension": ".py",
   "mimetype": "text/x-python",
   "name": "python",
   "nbconvert_exporter": "python",
   "pygments_lexer": "ipython3",
   "version": "3.10.13"
  },
  "papermill": {
   "default_parameters": {},
   "duration": 13.366716,
   "end_time": "2024-03-29T19:34:15.847992",
   "environment_variables": {},
   "exception": null,
   "input_path": "__notebook__.ipynb",
   "output_path": "__notebook__.ipynb",
   "parameters": {},
   "start_time": "2024-03-29T19:34:02.481276",
   "version": "2.5.0"
  }
 },
 "nbformat": 4,
 "nbformat_minor": 5
}
